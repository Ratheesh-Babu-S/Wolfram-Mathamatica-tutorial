{
 "cells": [
  {
   "cell_type": "code",
   "execution_count": 1,
   "id": "f0e22203",
   "metadata": {},
   "outputs": [
    {
     "data": {
      "text/html": [
       "<div><pre style=\"&#102;&#111;&#110;&#116;&#45;&#102;&#97;&#109;&#105;&#108;&#121;&#58;&#32;&#34;&#67;&#111;&#117;&#114;&#105;&#101;&#114;&#32;&#78;&#101;&#119;&#34;&#44;&#67;&#111;&#117;&#114;&#105;&#101;&#114;&#44;&#109;&#111;&#110;&#111;&#115;&#112;&#97;&#99;&#101;&#59;\">&#123;&#49;&#44;&#32;&#50;&#44;&#32;&#51;&#44;&#32;&#52;&#44;&#32;&#53;&#44;&#32;&#54;&#44;&#32;&#55;&#44;&#32;&#56;&#44;&#32;&#57;&#44;&#32;&#49;&#48;&#125;</pre></div>"
      ],
      "text/plain": [
       "{1, 2, 3, 4, 5, 6, 7, 8, 9, 10}"
      ]
     },
     "execution_count": 1,
     "metadata": {
      "text/html": [],
      "text/plain": []
     },
     "output_type": "execute_result"
    }
   ],
   "source": [
    "Table[n,{n,10}]"
   ]
  },
  {
   "cell_type": "markdown",
   "id": "163b744a",
   "metadata": {},
   "source": [
    "# wolfram test"
   ]
  },
  {
   "cell_type": "markdown",
   "id": "499c3072",
   "metadata": {},
   "source": [
    "this is a test code"
   ]
  },
  {
   "cell_type": "code",
   "execution_count": 2,
   "id": "9d945370",
   "metadata": {},
   "outputs": [
    {
     "data": {
      "text/html": [
       "<div><pre style=\"&#102;&#111;&#110;&#116;&#45;&#102;&#97;&#109;&#105;&#108;&#121;&#58;&#32;&#34;&#67;&#111;&#117;&#114;&#105;&#101;&#114;&#32;&#78;&#101;&#119;&#34;&#44;&#67;&#111;&#117;&#114;&#105;&#101;&#114;&#44;&#109;&#111;&#110;&#111;&#115;&#112;&#97;&#99;&#101;&#59;\">&#123;&#49;&#44;&#32;&#50;&#44;&#32;&#51;&#44;&#32;&#52;&#44;&#32;&#53;&#44;&#32;&#54;&#44;&#32;&#55;&#44;&#32;&#56;&#44;&#32;&#57;&#44;&#32;&#49;&#48;&#125;</pre></div>"
      ],
      "text/plain": [
       "{1, 2, 3, 4, 5, 6, 7, 8, 9, 10}"
      ]
     },
     "execution_count": 2,
     "metadata": {
      "text/html": [],
      "text/plain": []
     },
     "output_type": "execute_result"
    }
   ],
   "source": [
    "Table[n,{n,1,10}]"
   ]
  },
  {
   "cell_type": "code",
   "execution_count": null,
   "id": "13bac1f6",
   "metadata": {},
   "outputs": [],
   "source": []
  }
 ],
 "metadata": {
  "kernelspec": {
   "display_name": "Wolfram Language 13.2",
   "language": "Wolfram Language",
   "name": "wolframlanguage13.2"
  },
  "language_info": {
   "codemirror_mode": "mathematica",
   "file_extension": ".m",
   "mimetype": "application/vnd.wolfram.m",
   "name": "Wolfram Language",
   "pygments_lexer": "mathematica",
   "version": "12.0"
  }
 },
 "nbformat": 4,
 "nbformat_minor": 5
}
